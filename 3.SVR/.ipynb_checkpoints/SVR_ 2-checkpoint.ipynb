{
 "cells": [
  {
   "cell_type": "code",
   "execution_count": 17,
   "metadata": {
    "collapsed": false
   },
   "outputs": [],
   "source": [
    "import dlib"
   ]
  },
  {
   "cell_type": "code",
   "execution_count": 1,
   "metadata": {
    "collapsed": false
   },
   "outputs": [],
   "source": [
    "import pandas as pd\n",
    "from sklearn.utils import shuffle\n",
    "import numpy as np\n",
    "from sklearn import svm\n",
    "from sklearn import metrics"
   ]
  },
  {
   "cell_type": "code",
   "execution_count": 2,
   "metadata": {
    "collapsed": true
   },
   "outputs": [],
   "source": [
    "def read_CSV(filename = 'data_muabannhadat.csv'):\n",
    "    return pd.DataFrame.from_csv(filename)"
   ]
  },
  {
   "cell_type": "code",
   "execution_count": 3,
   "metadata": {
    "collapsed": true
   },
   "outputs": [],
   "source": [
    "def calculate_predicted(classifier, X):\n",
    "    predicted = classifier.predict(X)\n",
    "    return predicted"
   ]
  },
  {
   "cell_type": "code",
   "execution_count": 4,
   "metadata": {
    "collapsed": true
   },
   "outputs": [],
   "source": [
    "def read_set(filename):\n",
    "    train = read_CSV(filename)\n",
    "    input = train.iloc[:, 0:51]\n",
    "    output = train.price\n",
    "    train_X = input.values\n",
    "    X_mean = train_X.mean(axis=0)\n",
    "    X_std = train_X.std(axis=0)\n",
    "    #train_X = (train_X - X_mean)/X_std\n",
    "    #train_Y = output.values.reshape(-1, 1)\n",
    "    train_Y = output.values\n",
    "    baseline_prediction = output.mean()\n",
    "    return train_X, train_Y, baseline_prediction"
   ]
  },
  {
   "cell_type": "code",
   "execution_count": 5,
   "metadata": {
    "collapsed": true
   },
   "outputs": [],
   "source": [
    "def compute_squared_R(classifier, baseline_prediction, X, Y):\n",
    "    MSE = np.power(np.linalg.norm(calculate_predicted(classifier, X) - Y), 2)\n",
    "    SST = np.power(np.linalg.norm(Y - baseline_prediction), 2)\n",
    "    return 1 - (np.sum(MSE)/np.sum(SST))"
   ]
  },
  {
   "cell_type": "code",
   "execution_count": 6,
   "metadata": {
    "collapsed": false
   },
   "outputs": [],
   "source": [
    "train_X, train_Y, baseline_prediction_train = read_set('train_all.csv')"
   ]
  },
  {
   "cell_type": "code",
   "execution_count": 7,
   "metadata": {
    "collapsed": false
   },
   "outputs": [],
   "source": [
    "val_X, val_Y, baseline_prediction_val = read_set('validate_all.csv')"
   ]
  },
  {
   "cell_type": "code",
   "execution_count": 8,
   "metadata": {
    "collapsed": true
   },
   "outputs": [],
   "source": [
    "test_X, test_Y, baseline_prediction_test = read_set('test_all.csv')"
   ]
  },
  {
   "cell_type": "code",
   "execution_count": 9,
   "metadata": {
    "collapsed": true
   },
   "outputs": [],
   "source": [
    "C_ = [1000000000]\n",
    "gamma_ = [0.01,0.02,0.03,0.0349,0.04,0.05]\n",
    "train_E = []\n",
    "val_E = []"
   ]
  },
  {
   "cell_type": "code",
   "execution_count": 10,
   "metadata": {
    "collapsed": false
   },
   "outputs": [
    {
     "name": "stdout",
     "output_type": "stream",
     "text": [
      "C = 1000000000, gamma = 0.01\n",
      "Train: 0.366447965582\n",
      "Validate: 0.385576298903\n",
      "============================================================\n",
      "C = 1000000000, gamma = 0.02\n",
      "Train: 0.411211685243\n",
      "Validate: 0.387707443261\n",
      "============================================================\n",
      "C = 1000000000, gamma = 0.03\n",
      "Train: 0.443997928891\n",
      "Validate: 0.378751125054\n",
      "============================================================\n",
      "C = 1000000000, gamma = 0.0349\n",
      "Train: 0.457501400406\n",
      "Validate: 0.371237856096\n",
      "============================================================\n",
      "C = 1000000000, gamma = 0.04\n",
      "Train: 0.468843629035\n",
      "Validate: 0.363646845225\n",
      "============================================================\n",
      "C = 1000000000, gamma = 0.05\n",
      "Train: 0.487973925922\n",
      "Validate: 0.357598711752\n",
      "============================================================\n"
     ]
    }
   ],
   "source": [
    "for c_i in C_:\n",
    "    train_err = []\n",
    "    val_err = []\n",
    "    for gamma_i in gamma_:\n",
    "        parameters = dict(kernel = 'rbf', C = c_i, gamma = gamma_i)\n",
    "        classifier = svm.SVR(cache_size = 10000, **parameters)\n",
    "        print 'C = ' + str(c_i) + ', gamma = ' + str(gamma_i)\n",
    "        classifier.fit(train_X, train_Y)\n",
    "        predict_train = compute_squared_R(classifier, baseline_prediction_train, train_X, train_Y)\n",
    "        predict_val = compute_squared_R(classifier, baseline_prediction_train, val_X, val_Y)\n",
    "        train_err.append(predict_train)\n",
    "        val_err.append(predict_val)\n",
    "        print 'Train: ' + str(predict_train)\n",
    "        print 'Validate: ' + str(predict_val)\n",
    "        print '='*60\n",
    "    train_E.append(train_err)\n",
    "    val_E.append(val_err)"
   ]
  },
  {
   "cell_type": "markdown",
   "metadata": {},
   "source": [
    "Validate: 0.387737443261         \n",
    "============================================================"
   ]
  },
  {
   "cell_type": "code",
   "execution_count": 11,
   "metadata": {
    "collapsed": true
   },
   "outputs": [],
   "source": [
    "import pickle\n",
    "\n",
    "filename = 'finalized_model_800M_5.sav'\n",
    "pickle.dump(classifier, open(filename, 'wb'))"
   ]
  },
  {
   "cell_type": "code",
   "execution_count": 12,
   "metadata": {
    "collapsed": false
   },
   "outputs": [],
   "source": [
    "import pickle\n",
    "loaded_model = pickle.load(open('finalized_model_800M.sav', 'rb'))\n",
    "print compute_squared_R(classifier, baseline_prediction_train, train_X, train_Y)\n",
    "print compute_squared_R(classifier, baseline_prediction_train, val_X, val_Y)"
   ]
  },
  {
   "cell_type": "markdown",
   "metadata": {},
   "source": [
    "# Tạo 1 file .LOG ghi chú thông tin của các tập dữ liệu trong thư mục face-profiles           \n",
    "# Mỗi lần truy cập hệ thống sẽ đọc file đó và so sánh với số dữ liệu trong thư mục face-profiles           \n",
    "# Nếu không có thay đổi gì thì mình sẽ đọc model đã train, nếu có thì sẽ thông báo máy đang training lại model.\n",
    "# [updating...]"
   ]
  }
 ],
 "metadata": {
  "kernelspec": {
   "display_name": "Python 2",
   "language": "python",
   "name": "python2"
  },
  "language_info": {
   "codemirror_mode": {
    "name": "ipython",
    "version": 2
   },
   "file_extension": ".py",
   "mimetype": "text/x-python",
   "name": "python",
   "nbconvert_exporter": "python",
   "pygments_lexer": "ipython2",
   "version": "2.7.13"
  }
 },
 "nbformat": 4,
 "nbformat_minor": 2
}
